{
 "cells": [
  {
   "cell_type": "markdown",
   "id": "4061d1c4",
   "metadata": {},
   "source": [
    "# Samling 100 ads from relevant ads"
   ]
  },
  {
   "cell_type": "code",
   "execution_count": 1,
   "id": "e15f761e",
   "metadata": {},
   "outputs": [],
   "source": [
    "import pandas as pd"
   ]
  },
  {
   "cell_type": "code",
   "execution_count": 3,
   "id": "3597c5bc",
   "metadata": {},
   "outputs": [],
   "source": [
    "relevant_ads = pd.read_csv(\"../data/2_interim/relevant_ads.csv\")"
   ]
  },
  {
   "cell_type": "code",
   "execution_count": 5,
   "id": "a614a135",
   "metadata": {},
   "outputs": [
    {
     "name": "stdout",
     "output_type": "stream",
     "text": [
      "Saved 100 randomly sampled rows to relevant_ads_sampled.csv\n"
     ]
    }
   ],
   "source": [
    "# Randomly sample 100 rows from relevant_ads\n",
    "n_rows = 100\n",
    "\n",
    "# Use sample with random_state for reproducibility if needed\n",
    "sampled_ads = relevant_ads.sample(n=n_rows, random_state=None)\n",
    "\n",
    "# Save to CSV with semicolon as separator\n",
    "sampled_ads.to_csv(\"../data/2_interim/relevant_ads_sampled.csv\", index=False)\n",
    "print(f\"Saved {n_rows} randomly sampled rows to relevant_ads_sampled.csv\")"
   ]
  },
  {
   "cell_type": "markdown",
   "id": "1f33b22c",
   "metadata": {},
   "source": [
    "# Diving ads among team members"
   ]
  },
  {
   "cell_type": "code",
   "execution_count": 7,
   "id": "1f3c04f1",
   "metadata": {},
   "outputs": [],
   "source": [
    "# Define block sizes\n",
    "block1 = 34\n",
    "block2 = 33\n",
    "block3 = 33\n",
    "\n",
    "# Split into 3 consecutive chunks: 34, 33, 33\n",
    "df1 = sampled_ads.iloc[0:block1]  # rows 0 .. 33\n",
    "df2 = sampled_ads.iloc[block1:block1+block2]  # rows 34 .. 66\n",
    "df3 = sampled_ads.iloc[block1+block2:block1+block2+block3]  # rows 67 .. 99\n",
    "\n",
    "# Save (headers are written automatically)\n",
    "df1.to_csv(\"../data/2_interim/ads_sample_per.csv\", index=False)\n",
    "df2.to_csv(\"../data/2_interim/ads_sample_tim.csv\", index=False)\n",
    "df3.to_csv(\"../data/2_interim/ads_sample_fredrik.csv\", index=False)"
   ]
  }
 ],
 "metadata": {
  "kernelspec": {
   "display_name": "tio4550-housing-energy",
   "language": "python",
   "name": "python3"
  },
  "language_info": {
   "codemirror_mode": {
    "name": "ipython",
    "version": 3
   },
   "file_extension": ".py",
   "mimetype": "text/x-python",
   "name": "python",
   "nbconvert_exporter": "python",
   "pygments_lexer": "ipython3",
   "version": "3.13.7"
  }
 },
 "nbformat": 4,
 "nbformat_minor": 5
}
