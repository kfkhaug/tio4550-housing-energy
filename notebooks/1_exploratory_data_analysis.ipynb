{
 "cells": [
  {
   "cell_type": "code",
   "execution_count": 3,
   "id": "d46e596f",
   "metadata": {},
   "outputs": [
    {
     "name": "stdout",
     "output_type": "stream",
     "text": [
      "Placeholder\n"
     ]
    }
   ],
   "source": [
    "print(\"Placeholder\")"
   ]
  }
 ],
 "metadata": {
  "kernelspec": {
   "display_name": "tio4550-housing-energy",
   "language": "python",
   "name": "python3"
  },
  "language_info": {
   "codemirror_mode": {
    "name": "ipython",
    "version": 3
   },
   "file_extension": ".py",
   "mimetype": "text/x-python",
   "name": "python",
   "nbconvert_exporter": "python",
   "pygments_lexer": "ipython3",
   "version": "3.13.7"
  }
 },
 "nbformat": 4,
 "nbformat_minor": 5
}
