{
 "cells": [
  {
   "cell_type": "markdown",
   "id": "248805fb",
   "metadata": {},
   "source": [
    "## Setup"
   ]
  },
  {
   "cell_type": "code",
   "execution_count": 1,
   "id": "d46e596f",
   "metadata": {},
   "outputs": [
    {
     "name": "stdout",
     "output_type": "stream",
     "text": [
      "Hello from the src folder! The import is working! 🎉\n"
     ]
    },
    {
     "data": {
      "text/plain": [
       "True"
      ]
     },
     "execution_count": 1,
     "metadata": {},
     "output_type": "execute_result"
    }
   ],
   "source": [
    "import tio4550_housing_energy.utils as u\n",
    "import tio4550_housing_energy.exploratory_data_analysis as eda\n",
    "\n",
    "# This will now work!\n",
    "u.a_test_function()"
   ]
  }
 ],
 "metadata": {
  "kernelspec": {
   "display_name": "tio4550-housing-energy",
   "language": "python",
   "name": "python3"
  },
  "language_info": {
   "codemirror_mode": {
    "name": "ipython",
    "version": 3
   },
   "file_extension": ".py",
   "mimetype": "text/x-python",
   "name": "python",
   "nbconvert_exporter": "python",
   "pygments_lexer": "ipython3",
   "version": "3.13.7"
  }
 },
 "nbformat": 4,
 "nbformat_minor": 5
}
